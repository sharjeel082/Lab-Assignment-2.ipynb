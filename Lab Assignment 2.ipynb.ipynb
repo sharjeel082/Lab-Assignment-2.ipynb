{
 "cells": [
  {
   "cell_type": "code",
   "execution_count": 10,
   "id": "1e9978df-6b99-4a01-9aa3-8511155660ef",
   "metadata": {},
   "outputs": [
    {
     "name": "stdout",
     "output_type": "stream",
     "text": [
      "My Info: ('Sharjeel', 19, 5.11)\n",
      "My Age: 19\n"
     ]
    }
   ],
   "source": [
    "# Create a tuple with name, age, and height\n",
    "my_info = ('Sharjeel', 19, 5.11)\n",
    "\n",
    "# Print the entire tuple\n",
    "print(\"My Info:\", my_info)\n",
    "\n",
    "# Access and print age using positive indexing\n",
    "print(\"My Age:\", my_info[1])"
   ]
  },
  {
   "cell_type": "code",
   "execution_count": 3,
   "id": "97ef764e-6b0e-4b87-ab6c-7da8aa65aaf5",
   "metadata": {},
   "outputs": [
    {
     "name": "stdout",
     "output_type": "stream",
     "text": [
      "Type of single_day: <class 'tuple'>\n"
     ]
    }
   ],
   "source": [
    "# Create a single-item tuple (note the comma)\n",
    "single_day = ('Monday',)\n",
    "\n",
    "# Confirm it's a tuple\n",
    "print(\"Type of single_day:\", type(single_day))\n"
   ]
  },
  {
   "cell_type": "code",
   "execution_count": 4,
   "id": "44e6f9ab-dbdc-46d0-b76c-c40fd09007eb",
   "metadata": {},
   "outputs": [
    {
     "name": "stdout",
     "output_type": "stream",
     "text": [
      "Last Planet: Jupiter\n",
      "Third from End: Earth\n"
     ]
    }
   ],
   "source": [
    "# Given tuple\n",
    "planets = ('Mercury', 'Venus', 'Earth', 'Mars', 'Jupiter')\n",
    "\n",
    "# Last element using negative index\n",
    "print(\"Last Planet:\", planets[-1])\n",
    "\n",
    "# Third element from the end\n",
    "print(\"Third from End:\", planets[-3])"
   ]
  },
  {
   "cell_type": "code",
   "execution_count": 5,
   "id": "23eb7b15-a2ed-46a9-be60-518aa427b165",
   "metadata": {},
   "outputs": [
    {
     "name": "stdout",
     "output_type": "stream",
     "text": [
      "Combined Numbers: (1, 2, 3, 4, 5, 6)\n"
     ]
    }
   ],
   "source": [
    "# Define tuples\n",
    "front_numbers = (1, 2, 3)\n",
    "back_numbers = (4, 5, 6)\n",
    "\n",
    "# Concatenate using +\n",
    "combined_numbers = front_numbers + back_numbers\n",
    "print(\"Combined Numbers:\", combined_numbers)"
   ]
  },
  {
   "cell_type": "code",
   "execution_count": 6,
   "id": "7845d41a-db5b-4ea3-8ebe-2427e4a9cd03",
   "metadata": {},
   "outputs": [
    {
     "name": "stdout",
     "output_type": "stream",
     "text": [
      "Ratings: ('⭐', '⭐', '⭐')\n"
     ]
    }
   ],
   "source": [
    "# Define a tuple\n",
    "icon = ('⭐',)\n",
    "\n",
    "# Repeat it three times\n",
    "ratings = icon * 3\n",
    "print(\"Ratings:\", ratings)"
   ]
  },
  {
   "cell_type": "code",
   "execution_count": 7,
   "id": "0b024e4a-5037-42cf-9d31-4b212b1c8807",
   "metadata": {},
   "outputs": [],
   "source": [
    "# Define a tuple\n",
    "status = ('pending', 'processing', 'completed')\n",
    "\n",
    "# Try changing an element (will cause an error)\n",
    "# status[0] = 'failed'  # ❌ Uncommenting this will raise an error\n",
    "\n",
    "# Explanation:\n",
    "# Tuples are immutable, meaning their elements cannot be changed once created.\n",
    "# Python will raise: TypeError: 'tuple' object does not support item assignment"
   ]
  },
  {
   "cell_type": "code",
   "execution_count": 8,
   "id": "3b6e7ec8-2b73-4776-ac80-0090eafa8b8b",
   "metadata": {},
   "outputs": [
    {
     "name": "stdout",
     "output_type": "stream",
     "text": [
      "Slice (30, 40, 50): (30, 40, 50)\n",
      "Slice up to 50: (10, 20, 30, 40)\n"
     ]
    }
   ],
   "source": [
    "# Given data\n",
    "data = (10, 20, 30, 40, 50, 60, 70)\n",
    "\n",
    "# Extract elements (30, 40, 50)\n",
    "subset1 = data[2:5]\n",
    "print(\"Slice (30, 40, 50):\", subset1)\n",
    "\n",
    "# Extract from beginning up to (but not including) 50\n",
    "subset2 = data[:4]\n",
    "print(\"Slice up to 50:\", subset2)"
   ]
  },
  {
   "cell_type": "code",
   "execution_count": 9,
   "id": "a37aa408-88f1-409f-920c-33bfd8635568",
   "metadata": {},
   "outputs": [
    {
     "name": "stdout",
     "output_type": "stream",
     "text": [
      "Number of 'pass': 4\n",
      "Index of 'defer': 4\n"
     ]
    }
   ],
   "source": [
    "# Define tuple\n",
    "results = ('pass', 'fail', 'pass', 'pass', 'defer', 'pass')\n",
    "\n",
    "# Count how many times 'pass' appears\n",
    "pass_count = results.count('pass')\n",
    "print(\"Number of 'pass':\", pass_count)\n",
    "\n",
    "# Find index of 'defer'\n",
    "defer_index = results.index('defer')\n",
    "print(\"Index of 'defer':\", defer_index)"
   ]
  },
  {
   "cell_type": "code",
   "execution_count": null,
   "id": "74148c10-2077-48aa-8885-2d594229e017",
   "metadata": {},
   "outputs": [],
   "source": []
  }
 ],
 "metadata": {
  "kernelspec": {
   "display_name": "Python 3 (ipykernel)",
   "language": "python",
   "name": "python3"
  },
  "language_info": {
   "codemirror_mode": {
    "name": "ipython",
    "version": 3
   },
   "file_extension": ".py",
   "mimetype": "text/x-python",
   "name": "python",
   "nbconvert_exporter": "python",
   "pygments_lexer": "ipython3",
   "version": "3.13.5"
  }
 },
 "nbformat": 4,
 "nbformat_minor": 5
}
